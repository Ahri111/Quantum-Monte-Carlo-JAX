{
 "cells": [
  {
   "cell_type": "code",
   "execution_count": 1,
   "metadata": {},
   "outputs": [],
   "source": [
    "import os\n",
    "import numpy as np\n",
    "import jax\n",
    "import jax.numpy as jnp\n",
    "from jax import random\n",
    "from typing import Tuple, Optional\n",
    "\n",
    "from pyscf import gto, scf, mcscf\n",
    "import pyqmc.api as pyq\n",
    "\n",
    "from qmc.pyscftools import orbital_evaluator_from_pyscf\n",
    "from qmc.setting import initialize_calculation, determine_complex_settings\n",
    "from qmc.mc import limdrift\n",
    "from qmc.orbitals import *\n",
    "from qmc.determinants import *\n",
    "from qmc.extract import *\n",
    "\n",
    "np.random.seed(42)\n",
    "jax.config.update(\"jax_enable_x64\",True)"
   ]
  },
  {
   "cell_type": "code",
   "execution_count": 4,
   "metadata": {},
   "outputs": [
    {
     "data": {
      "text/plain": [
       "<pyscf.gto.mole.Mole at 0x1065bf310>"
      ]
     },
     "execution_count": 4,
     "metadata": {},
     "output_type": "execute_result"
    }
   ],
   "source": [
    " mol = gto.Mole()\n",
    "mol.atom = '''\n",
    "H 0.0 0.0 0.0\n",
    "H 0.0 0.0 0.74\n",
    "'''\n",
    "mol.basis = 'sto-3g'\n",
    "mol.build()"
   ]
  },
  {
   "cell_type": "code",
   "execution_count": 8,
   "metadata": {},
   "outputs": [
    {
     "name": "stdout",
     "output_type": "stream",
     "text": [
      "converged SCF energy = -1.11675930739643\n"
     ]
    }
   ],
   "source": [
    "nconfig, seed = 10, 42\n",
    "coords, max_orb, det_coeff, det_map, mo_coeff, occup_hash, _nelec, nelec = \\\n",
    "    initialize_calculation(mol, nconfig, seed)\n",
    "iscomplex, mo_dtype, get_phase = \\\n",
    "    determine_complex_settings(mo_coeff, det_coeff)\n"
   ]
  },
  {
   "cell_type": "code",
   "execution_count": 26,
   "metadata": {},
   "outputs": [
    {
     "name": "stdout",
     "output_type": "stream",
     "text": [
      "0.0023779869079589844\n",
      "0.0007359981536865234\n"
     ]
    }
   ],
   "source": [
    "import time\n",
    "\n",
    "start_time = time.time()\n",
    "# g, _, _ = gradient_value(mol, e, coords[:, e, :], dets, inverse, mo_coeff, \\\n",
    "#                                   det_coeff, det_map, _nelec, occup_hash)\n",
    "recompute(mol, coords, mo_coeff, _nelec, occup_hash)\n",
    "\n",
    "end_time = time.time()\n",
    "print(end_time - start_time)\n",
    "\n",
    "start_time = time.time()\n",
    "# g, _, _ = wf.gradient_value(e, configs.electron(e))\n",
    "wf.recompute(configs)\n",
    "\n",
    "end_time = time.time()\n",
    "print(end_time - start_time)\n"
   ]
  },
  {
   "cell_type": "code",
   "execution_count": 22,
   "metadata": {},
   "outputs": [
    {
     "ename": "ModuleNotFoundError",
     "evalue": "No module named 'cupy'",
     "output_type": "error",
     "traceback": [
      "\u001b[0;31m---------------------------------------------------------------------------\u001b[0m",
      "\u001b[0;31mModuleNotFoundError\u001b[0m                       Traceback (most recent call last)",
      "Cell \u001b[0;32mIn[22], line 1\u001b[0m\n\u001b[0;32m----> 1\u001b[0m \u001b[38;5;28;01mimport\u001b[39;00m\u001b[38;5;250m \u001b[39m\u001b[38;5;21;01mcupy\u001b[39;00m\u001b[38;5;250m \u001b[39m\u001b[38;5;28;01mas\u001b[39;00m\u001b[38;5;250m \u001b[39m\u001b[38;5;21;01mcp\u001b[39;00m\n\u001b[1;32m      3\u001b[0m \u001b[38;5;28;01mif\u001b[39;00m \u001b[38;5;129;01mnot\u001b[39;00m cp\u001b[38;5;241m.\u001b[39mcuda\u001b[38;5;241m.\u001b[39mis_available():\n\u001b[1;32m      4\u001b[0m     \u001b[38;5;28mprint\u001b[39m(\u001b[38;5;124m\"\u001b[39m\u001b[38;5;124mnot\u001b[39m\u001b[38;5;124m\"\u001b[39m)\n",
      "\u001b[0;31mModuleNotFoundError\u001b[0m: No module named 'cupy'"
     ]
    }
   ],
   "source": [
    "import cupy as cp\n",
    "\n",
    "if not cp.cuda.is_available():\n",
    "    print(\"not\")"
   ]
  },
  {
   "cell_type": "code",
   "execution_count": 8,
   "metadata": {},
   "outputs": [
    {
     "name": "stdout",
     "output_type": "stream",
     "text": [
      "0.47\n"
     ]
    }
   ],
   "source": [
    "import time\n",
    "np.random.seed(seed)\n",
    "key = random.PRNGKey(seed)\n",
    "nsteps = 2\n",
    "tstep = 0.5\n",
    "nconf, nelec, _ = coords.shape\n",
    "\n",
    "dets, inverse, aovals = recompute(mol, coords, mo_coeff, _nelec, occup_hash)\n",
    "\n",
    "equilibration_step = 2\n",
    "\n",
    "\n",
    "for i in range(equilibration_step):\n",
    "    acc = 0\n",
    "        \n",
    "    for e in range(nelec):\n",
    "        \n",
    "        \n",
    "        g, _, _  = gradient_value(mol, e, coords[:, e, :], dets, inverse, mo_coeff, \\\n",
    "                                  det_coeff, det_map, _nelec, occup_hash)\n",
    "        grad = limdrift(jnp.real(g.T))\n",
    "        \n",
    "        \n",
    "        gauss = np.random.normal(scale=np.sqrt(tstep), size=(nconf, 3))\n",
    "        gauss = jnp.array(gauss)\n",
    "        newcoorde = coords[:, e, :] + gauss + grad * tstep\n",
    "        \n",
    "        # pbc -> make_irreducible -> Not yet\n",
    "        g, new_val, saved = gradient_value(mol, e, newcoorde, dets, inverse, mo_coeff, \\\n",
    "                                           det_coeff, det_map, _nelec, occup_hash)\n",
    "        \n",
    "        new_grad = limdrift(jnp.real(g.T))\n",
    "        \n",
    "        forward = jnp.sum(gauss**2, axis = 1)\n",
    "        backward = jnp.sum((gauss + tstep * (grad + new_grad))**2, axis = 1)\n",
    "        t_prob = jnp.exp(1 / (2 * tstep) * (forward - backward))\n",
    "\n",
    "        ratio = jnp.abs(new_val) ** 2 * t_prob\n",
    "        accept = ratio > np.random.rand(nconf)\n",
    "        coords[accept, e, :] = newcoorde[accept, :]\n",
    "        aovals, dets, inverse = sherman_morrison(e, newcoorde, coords, mask = accept, gtoval = \"GTOval_sph\", aovals = aovals, saved_value= saved, get_phase = get_phase, dets = dets, inverse = inverse, mo_coeff = mo_coeff, occup_hash = occup_hash, _nelec = _nelec)\n",
    "        \n",
    "        acc += jnp.mean(accept) / nelec\n",
    "print(acc)\n"
   ]
  },
  {
   "cell_type": "code",
   "execution_count": 11,
   "metadata": {},
   "outputs": [
    {
     "name": "stdout",
     "output_type": "stream",
     "text": [
      "converged SCF energy = -74.963146775618\n",
      "jaejun_qmc result is 0.47\n",
      "pyqmc result is 0.52\n"
     ]
    }
   ],
   "source": [
    "import pyscf\n",
    "from pyscf import gto, scf, mcscf\n",
    "from pyqmc.api import Slater\n",
    "import pyqmc.api as pyq\n",
    "import numpy as np\n",
    "from pyqmc.api import vmc\n",
    "from pyqmc.energy import kinetic\n",
    "\n",
    "def limdrift(g, cutoff=1):\n",
    "    \"\"\"\n",
    "    Limit a vector to have a maximum magnitude of cutoff while maintaining direction\n",
    "\n",
    "    :parameter g: a [nconf,ndim] vector\n",
    "    :parameter cutoff: the maximum magnitude\n",
    "    :returns: The vector with the cutoff applied.\n",
    "    \"\"\"\n",
    "    tot = np.linalg.norm(g, axis=1)\n",
    "    mask = tot > cutoff\n",
    "    g[mask, :] = cutoff * g[mask, :] / tot[mask, np.newaxis]\n",
    "    return g\n",
    "\n",
    "# 물 분자 정의\n",
    "np.random.seed(42)\n",
    "\n",
    "mol = gto.Mole()\n",
    "mol.atom = '''\n",
    "O 0.000000 0.000000 0.117790\n",
    "H 0.000000 0.755453 -0.471161\n",
    "H 0.000000 -0.755453 -0.471161\n",
    "'''\n",
    "mol.basis = 'sto-3g'\n",
    "mol.build()\n",
    "\n",
    "mf = scf.RHF(mol)\n",
    "mf.kernel()\n",
    "\n",
    "nconfig = 10\n",
    "configs = pyq.initial_guess(mol, nconfig)\n",
    "\n",
    "wf = Slater(mol, mf)\n",
    "nconf, nelec, _ = configs.configs.shape\n",
    "block_avg = {}\n",
    "wf.recompute(configs)\n",
    "nsteps = 1\n",
    "tstep = 0.5\n",
    "equilibration_step = 800\n",
    "\n",
    "np.random.seed(42)\n",
    "\n",
    "for _ in range(equilibration_step):\n",
    "    acc2 = 0.0\n",
    "    for e in range(nelec):\n",
    "        # Propose move\n",
    "        g, _, _ = wf.gradient_value(e, configs.electron(e))\n",
    "        grad = limdrift(np.real(g.T))\n",
    "        gauss = np.random.normal(scale=np.sqrt(tstep), size=(nconf, 3))\n",
    "        newcoorde = configs.configs[:, e, :] + gauss + grad * tstep\n",
    "        newcoorde = configs.make_irreducible(e, newcoorde)\n",
    "\n",
    "        # Compute reverse move\n",
    "        g, new_val, saved = wf.gradient_value(e, newcoorde)\n",
    "        new_grad = limdrift(np.real(g.T))\n",
    "        forward = np.sum(gauss**2, axis=1)\n",
    "        backward = np.sum((gauss + tstep * (grad + new_grad)) ** 2, axis=1)\n",
    "\n",
    "        # Acceptance\n",
    "        t_prob = np.exp(1 / (2 * tstep) * (forward - backward))\n",
    "        ratio = np.abs(new_val) ** 2 * t_prob\n",
    "        accept = ratio > np.random.rand(nconf)\n",
    "        # Update wave function\n",
    "        configs.move(e, newcoorde, accept)\n",
    "        wf.updateinternals(e, newcoorde, configs, mask=accept, saved_values=saved)\n",
    "        acc2 += np.mean(accept) / nelec\n",
    "print(\"jaejun_qmc result is\" ,acc)\n",
    "print(\"pyqmc result is\", acc2)"
   ]
  },
  {
   "cell_type": "code",
   "execution_count": 6,
   "metadata": {},
   "outputs": [
    {
     "name": "stdout",
     "output_type": "stream",
     "text": [
      "Mean total energy: -73.312520 ± 19.631363\n"
     ]
    }
   ],
   "source": [
    "production_steps = 4000\n",
    "energies = []\n",
    "for i in range(production_steps):\n",
    "    acc = 0\n",
    "    for e in range(nelec):\n",
    "        g, _, _ = gradient_value(mol, e, coords[:, e, :], dets, inverse, mo_coeff,\n",
    "                                det_coeff, det_map, _nelec, occup_hash)\n",
    "        grad = limdrift(jnp.real(g.T))\n",
    "\n",
    "        gauss = np.random.normal(scale=np.sqrt(tstep), size=(nconf, 3))\n",
    "        gauss = jnp.array(gauss)\n",
    "        newcoorde = coords[:, e, :] + gauss + grad * tstep\n",
    "        \n",
    "        g, new_val, saved = gradient_value(mol, e, newcoorde, dets, inverse, mo_coeff,\n",
    "                                         det_coeff, det_map, _nelec, occup_hash)\n",
    "        \n",
    "        new_grad = limdrift(jnp.real(g.T))\n",
    "        \n",
    "        forward = jnp.sum(gauss**2, axis=1)\n",
    "        backward = jnp.sum((gauss + tstep * (grad + new_grad))**2, axis=1)\n",
    "        t_prob = jnp.exp(1/(2 * tstep) * (forward - backward))\n",
    "        \n",
    "        ratio = jnp.abs(new_val)**2 * t_prob\n",
    "        accept = ratio > np.random.rand(nconf)\n",
    "        coords[accept, e, :] = newcoorde[accept, :]\n",
    "        \n",
    "        aovals, dets, inverse = sherman_morrison(e, newcoorde, coords, mask=accept,\n",
    "                                               gtoval=\"GTOval_sph\", aovals=aovals,\n",
    "                                               saved_value=saved, get_phase=get_phase,\n",
    "                                               dets=dets, inverse=inverse,\n",
    "                                               mo_coeff=mo_coeff, occup_hash=occup_hash,\n",
    "                                               _nelec=_nelec)\n",
    "        \n",
    "        acc += jnp.mean(accept) / nelec\n",
    "    \n",
    "    PE = compute_potential_energy(mol, coords)\n",
    "    KE, _  = kinetic_energy(coords, mol, dets, inverse, mo_coeff, \n",
    "                            det_coeff, det_map, _nelec, occup_hash)\n",
    "\n",
    "    energies.append({\n",
    "        'ee': PE['ee'],\n",
    "        'ei': PE['ei'],\n",
    "        'ii': PE['ii'],\n",
    "        'ke': KE,\n",
    "        'total': PE['total'] + KE,\n",
    "        'accept_ratio': acc\n",
    "    })\n",
    "\n",
    "energies = jnp.array([e['total'] for e in energies])\n",
    "mean_energy = jnp.mean(energies)\n",
    "std_energy = jnp.std(energies)\n",
    "print(f\"Mean total energy: {mean_energy:.6f} ± {std_energy:.6f}\")"
   ]
  },
  {
   "cell_type": "code",
   "execution_count": 28,
   "metadata": {},
   "outputs": [
    {
     "name": "stdout",
     "output_type": "stream",
     "text": [
      "0.22146391868591309\n",
      "0.04555106163024902\n"
     ]
    }
   ],
   "source": [
    "import time\n",
    "start = time.time()\n",
    "for i in range(500):\n",
    "  configs = pyq.initial_guess(mol, nconfig)\n",
    "  coords = configs.configs\n",
    "  det, inverse, aovals = recompute(mol, coords, mo_coeff, _nelec, occup_hash)\n",
    "\n",
    "end = time.time()\n",
    "print(end -start)\n",
    "\n",
    "start = time.time()\n",
    "for i in range(500):\n",
    "  wf.recompute(configs)\n",
    "\n",
    "end = time.time()\n",
    "print(end -start)"
   ]
  },
  {
   "cell_type": "code",
   "execution_count": null,
   "metadata": {},
   "outputs": [],
   "source": []
  }
 ],
 "metadata": {
  "kernelspec": {
   "display_name": "qmc2",
   "language": "python",
   "name": "python3"
  },
  "language_info": {
   "codemirror_mode": {
    "name": "ipython",
    "version": 3
   },
   "file_extension": ".py",
   "mimetype": "text/x-python",
   "name": "python",
   "nbconvert_exporter": "python",
   "pygments_lexer": "ipython3",
   "version": "3.10.16"
  }
 },
 "nbformat": 4,
 "nbformat_minor": 2
}
