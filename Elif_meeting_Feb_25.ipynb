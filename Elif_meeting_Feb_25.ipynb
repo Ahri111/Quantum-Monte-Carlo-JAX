{
 "cells": [
  {
   "cell_type": "code",
   "execution_count": 9,
   "metadata": {},
   "outputs": [],
   "source": [
    "import os\n",
    "import numpy as np\n",
    "import jax\n",
    "import jax.numpy as jnp\n",
    "from jax import random\n",
    "from typing import Tuple, Optional\n",
    "\n",
    "from pyscf import gto, scf, mcscf\n",
    "import pyqmc.api as pyq\n",
    "\n",
    "from qmc.pyscftools import orbital_evaluator_from_pyscf\n",
    "from qmc.setting import initialize_calculation, determine_complex_settings\n",
    "from qmc.mc import limdrift\n",
    "from qmc.orbitals import *\n",
    "from qmc.determinants import *\n",
    "# from qmc.extract import *\n",
    "\n",
    "np.random.seed(42)\n",
    "jax.config.update(\"jax_enable_x64\",True)"
   ]
  },
  {
   "cell_type": "code",
   "execution_count": 10,
   "metadata": {},
   "outputs": [
    {
     "data": {
      "text/plain": [
       "<pyscf.gto.mole.Mole at 0x159691180>"
      ]
     },
     "execution_count": 10,
     "metadata": {},
     "output_type": "execute_result"
    }
   ],
   "source": [
    "mol = gto.Mole()\n",
    "mol.atom = '''\n",
    "H 0.0 0.0 0.0\n",
    "H 0.0 0.0 0.74\n",
    "'''\n",
    "mol.basis = 'sto-3g'\n",
    "mol.build()"
   ]
  },
  {
   "cell_type": "code",
   "execution_count": 11,
   "metadata": {},
   "outputs": [
    {
     "name": "stdout",
     "output_type": "stream",
     "text": [
      "converged SCF energy = -1.11675930739643\n"
     ]
    }
   ],
   "source": [
    "nconfig, seed = 10, 42\n",
    "coords, max_orb, det_coeff, det_map, mo_coeff, occup_hash, _nelec, nelec = \\\n",
    "    initialize_calculation(mol, nconfig, seed)\n",
    "iscomplex, mo_dtype, get_phase = \\\n",
    "    determine_complex_settings(mo_coeff, det_coeff)\n"
   ]
  },
  {
   "cell_type": "code",
   "execution_count": 12,
   "metadata": {},
   "outputs": [
    {
     "name": "stdout",
     "output_type": "stream",
     "text": [
      "converged SCF energy = -1.11675930739643\n"
     ]
    },
    {
     "ename": "TypeError",
     "evalue": "recompute() missing 1 required positional argument: 'occup_hash'",
     "output_type": "error",
     "traceback": [
      "\u001b[0;31m---------------------------------------------------------------------------\u001b[0m",
      "\u001b[0;31mTypeError\u001b[0m                                 Traceback (most recent call last)",
      "Cell \u001b[0;32mIn[12], line 17\u001b[0m\n\u001b[1;32m     14\u001b[0m atomic_orbitals \u001b[38;5;241m=\u001b[39m aos(mol,\u001b[38;5;124m\"\u001b[39m\u001b[38;5;124mGTOval_sph\u001b[39m\u001b[38;5;124m\"\u001b[39m, coords)\n\u001b[1;32m     15\u001b[0m aovals \u001b[38;5;241m=\u001b[39m atomic_orbitals\u001b[38;5;241m.\u001b[39mreshape(\u001b[38;5;241m-\u001b[39m\u001b[38;5;241m1\u001b[39m, nconf, nelec_tot, atomic_orbitals\u001b[38;5;241m.\u001b[39mshape[\u001b[38;5;241m-\u001b[39m\u001b[38;5;241m1\u001b[39m])\n\u001b[0;32m---> 17\u001b[0m dets, inverse \u001b[38;5;241m=\u001b[39m \u001b[43mrecompute\u001b[49m\u001b[43m(\u001b[49m\u001b[43maovals\u001b[49m\u001b[43m,\u001b[49m\u001b[43m \u001b[49m\u001b[43mmo_coeff\u001b[49m\u001b[43m,\u001b[49m\u001b[43m \u001b[49m\u001b[43m_nelec\u001b[49m\u001b[43m,\u001b[49m\u001b[43m \u001b[49m\u001b[43moccup_hash\u001b[49m\u001b[43m)\u001b[49m\n\u001b[1;32m     18\u001b[0m wf \u001b[38;5;241m=\u001b[39m Slater(mol, mf)\n\u001b[1;32m     19\u001b[0m wf\u001b[38;5;241m.\u001b[39mrecompute(configs)\n",
      "\u001b[0;31mTypeError\u001b[0m: recompute() missing 1 required positional argument: 'occup_hash'"
     ]
    }
   ],
   "source": [
    "from pyqmc.api import Slater\n",
    "import pyqmc.api as pyq\n",
    "\n",
    "np.random.seed(42)\n",
    "configs = pyq.initial_guess(mol, nconfig)\n",
    "coords = configs.configs\n",
    "# coords = jnp.array(configs.configs)\n",
    "\n",
    "mf = scf.RHF(mol)\n",
    "mf.kernel()\n",
    "wf = Slater(mol, mf)\n",
    "\n",
    "nconf, nelec_tot, ndim = coords.shape\n",
    "atomic_orbitals = aos(mol,\"GTOval_sph\", coords)\n",
    "aovals = atomic_orbitals.reshape(-1, nconf, nelec_tot, atomic_orbitals.shape[-1])\n",
    "\n",
    "dets, inverse = recompute(aovals, mo_coeff, _nelec, occup_hash)\n",
    "wf = Slater(mol, mf)\n",
    "wf.recompute(configs)\n",
    "wf._dets\n",
    "import time\n",
    "start = time.time()\n",
    "for i in range(500):\n",
    "  atomic_orbitals = aos(mol,\"GTOval_sph\", coords)\n",
    "  aovals = atomic_orbitals.reshape(-1, nconf, nelec_tot, atomic_orbitals.shape[-1])\n",
    "  det, inverse = recompute(aovals, mo_coeff, _nelec, occup_hash)\n",
    "\n",
    "end = time.time()\n",
    "print(end -start)\n",
    "\n",
    "start = time.time()\n",
    "for i in range(500):\n",
    "  wf.recompute(configs)\n",
    "\n",
    "end = time.time()\n",
    "print(end -start)"
   ]
  },
  {
   "cell_type": "code",
   "execution_count": 15,
   "metadata": {},
   "outputs": [
    {
     "name": "stdout",
     "output_type": "stream",
     "text": [
      "0.06342124938964844\n",
      "[[ 0.01263103  0.98710936  1.07495699 -0.43745234  0.93769286  0.81098804\n",
      "  -0.49626581  1.06035087  0.53927291 -0.90622795]\n",
      " [ 0.9898314  -0.14630749  0.52336155  0.51978857  0.34549593  0.87686757\n",
      "   0.88528481 -0.33266788 -0.87667629 -0.32545636]\n",
      " [-0.03679529 -0.69546761 -0.08903469  1.05377761  0.0852968  -0.04201668\n",
      "  -0.69441644  0.18497596 -0.42465425 -0.04018222]]\n"
     ]
    },
    {
     "name": "stderr",
     "output_type": "stream",
     "text": [
      "/opt/anaconda3/envs/qmc/lib/python3.10/site-packages/jax/_src/core.py:678: FutureWarning: unhashable type: <class 'jax._src.interpreters.partial_eval.DynamicJaxprTracer'>. Attempting to hash a tracer will lead to an error in a future JAX release.\n",
      "  warnings.warn(\n",
      "/opt/anaconda3/envs/qmc/lib/python3.10/site-packages/jax/_src/core.py:678: FutureWarning: unhashable type: <class 'jax._src.interpreters.partial_eval.DynamicJaxprTracer'>. Attempting to hash a tracer will lead to an error in a future JAX release.\n",
      "  warnings.warn(\n"
     ]
    }
   ],
   "source": [
    "import time\n",
    "start = time.time()\n",
    "e = 0\n",
    "epos = jnp.array(coords[:, e, :])\n",
    "s = int(e >= _nelec[0])\n",
    "# (φ ∂φ/∂x, ∂φ/∂y, ∂φ/∂z) -> (1, 4, config, number of coefficients)\n",
    "aovals, dets, inverse = recompute(mol, coords, mo_coeff, _nelec, occup_hash)\n",
    "\n",
    "start = time.time()\n",
    "\n",
    "g, _, _  = gradient_value(mol, e, epos, dets, inverse, mo_coeff, det_coeff, det_map, _nelec, occup_hash)\n",
    "end = time.time()\n",
    "print(end - start)\n",
    "print(g)"
   ]
  },
  {
   "cell_type": "code",
   "execution_count": 12,
   "metadata": {},
   "outputs": [
    {
     "name": "stdout",
     "output_type": "stream",
     "text": [
      "0.0002999305725097656\n"
     ]
    },
    {
     "data": {
      "text/plain": [
       "array([[ 0.01263103,  0.98710936,  1.07495699, -0.43745234,  0.93769286,\n",
       "         0.81098804, -0.49626581,  1.06035087,  0.53927291, -0.90622795],\n",
       "       [ 0.9898314 , -0.14630749,  0.52336155,  0.51978857,  0.34549593,\n",
       "         0.87686757,  0.88528481, -0.33266788, -0.87667629, -0.32545636],\n",
       "       [-0.03679529, -0.69546761, -0.08903469,  1.05377761,  0.0852968 ,\n",
       "        -0.04201668, -0.69441644,  0.18497596, -0.42465425, -0.04018222]])"
      ]
     },
     "execution_count": 12,
     "metadata": {},
     "output_type": "execute_result"
    }
   ],
   "source": [
    "start = time.time()\n",
    "e = 0\n",
    "g, _, _ = wf.gradient_value(e, configs.electron(e))\n",
    "end = time.time()\n",
    "print(end - start)\n",
    "g"
   ]
  },
  {
   "cell_type": "code",
   "execution_count": 21,
   "metadata": {},
   "outputs": [
    {
     "ename": "TypeError",
     "evalue": "Slater.gradient_laplacian() missing 1 required positional argument: 'epos'",
     "output_type": "error",
     "traceback": [
      "\u001b[0;31m---------------------------------------------------------------------------\u001b[0m",
      "\u001b[0;31mTypeError\u001b[0m                                 Traceback (most recent call last)",
      "Cell \u001b[0;32mIn[21], line 1\u001b[0m\n\u001b[0;32m----> 1\u001b[0m \u001b[43mwf\u001b[49m\u001b[38;5;241;43m.\u001b[39;49m\u001b[43mgradient_laplacian\u001b[49m\u001b[43m(\u001b[49m\u001b[43mconfigs\u001b[49m\u001b[43m)\u001b[49m\n",
      "\u001b[0;31mTypeError\u001b[0m: Slater.gradient_laplacian() missing 1 required positional argument: 'epos'"
     ]
    }
   ],
   "source": [
    "wf.gradient_laplacian(configs)"
   ]
  },
  {
   "cell_type": "code",
   "execution_count": 2,
   "metadata": {},
   "outputs": [
    {
     "ename": "NameError",
     "evalue": "name 'coords' is not defined",
     "output_type": "error",
     "traceback": [
      "\u001b[0;31m---------------------------------------------------------------------------\u001b[0m",
      "\u001b[0;31mNameError\u001b[0m                                 Traceback (most recent call last)",
      "Cell \u001b[0;32mIn[2], line 4\u001b[0m\n\u001b[1;32m      2\u001b[0m start \u001b[38;5;241m=\u001b[39m time\u001b[38;5;241m.\u001b[39mtime()\n\u001b[1;32m      3\u001b[0m e \u001b[38;5;241m=\u001b[39m \u001b[38;5;241m0\u001b[39m\n\u001b[0;32m----> 4\u001b[0m epos \u001b[38;5;241m=\u001b[39m \u001b[43mcoords\u001b[49m[:, e, :]\n\u001b[1;32m      5\u001b[0m s \u001b[38;5;241m=\u001b[39m \u001b[38;5;28mint\u001b[39m(e \u001b[38;5;241m>\u001b[39m\u001b[38;5;241m=\u001b[39m _nelec[\u001b[38;5;241m0\u001b[39m])\n\u001b[1;32m      6\u001b[0m \u001b[38;5;66;03m# (φ ∂φ/∂x, ∂φ/∂y, ∂φ/∂z) -> (1, 4, config, number of coefficients)\u001b[39;00m\n",
      "\u001b[0;31mNameError\u001b[0m: name 'coords' is not defined"
     ]
    }
   ],
   "source": [
    "import time\n",
    "start = time.time()\n",
    "e = 0\n",
    "epos = coords[:, e, :]\n",
    "s = int(e >= _nelec[0])\n",
    "# (φ ∂φ/∂x, ∂φ/∂y, ∂φ/∂z) -> (1, 4, config, number of coefficients)\n",
    "\n",
    "start = time.time()\n",
    "\n",
    "g, _, _  = gradient_value(mol, e, epos, dets, inverse, mo_coeff, det_coeff, det_map, _nelec, occup_hash)\n",
    "end = time.time()\n",
    "print(end - start)\n",
    "g"
   ]
  },
  {
   "cell_type": "code",
   "execution_count": 32,
   "metadata": {},
   "outputs": [
    {
     "ename": "ValueError",
     "evalue": "Non-hashable static arguments are not supported, as this can lead to unexpected cache-misses. Static argument (index 2) of type <class 'jaxlib.xla_extension.ArrayImpl'> for function recompute is non-hashable.",
     "output_type": "error",
     "traceback": [
      "\u001b[0;31m---------------------------------------------------------------------------\u001b[0m",
      "\u001b[0;31mValueError\u001b[0m                                Traceback (most recent call last)",
      "Cell \u001b[0;32mIn[32], line 6\u001b[0m\n\u001b[1;32m      3\u001b[0m tstep \u001b[38;5;241m=\u001b[39m \u001b[38;5;241m0.5\u001b[39m\n\u001b[1;32m      4\u001b[0m nconf, nelec, _ \u001b[38;5;241m=\u001b[39m coords\u001b[38;5;241m.\u001b[39mshape\n\u001b[0;32m----> 6\u001b[0m dets, inverse, aovals \u001b[38;5;241m=\u001b[39m \u001b[43mrecompute\u001b[49m\u001b[43m(\u001b[49m\u001b[43mmol\u001b[49m\u001b[43m,\u001b[49m\u001b[43m \u001b[49m\u001b[43mcoords\u001b[49m\u001b[43m,\u001b[49m\u001b[43m \u001b[49m\u001b[43mmo_coeff\u001b[49m\u001b[43m,\u001b[49m\u001b[43m \u001b[49m\u001b[43m_nelec\u001b[49m\u001b[43m,\u001b[49m\u001b[43m \u001b[49m\u001b[43moccup_hash\u001b[49m\u001b[43m)\u001b[49m\n\u001b[1;32m      8\u001b[0m equilibration_step \u001b[38;5;241m=\u001b[39m \u001b[38;5;241m500\u001b[39m\n\u001b[1;32m     10\u001b[0m np\u001b[38;5;241m.\u001b[39mrandom\u001b[38;5;241m.\u001b[39mseed(seed)\n",
      "    \u001b[0;31m[... skipping hidden 4 frame]\u001b[0m\n",
      "File \u001b[0;32m/opt/anaconda3/envs/qmc/lib/python3.10/site-packages/jax/_src/api_util.py:271\u001b[0m, in \u001b[0;36margnums_partial_except\u001b[0;34m(f, static_argnums, args, allow_invalid)\u001b[0m\n\u001b[1;32m    269\u001b[0m static_arg \u001b[38;5;241m=\u001b[39m args[i]\n\u001b[1;32m    270\u001b[0m \u001b[38;5;28;01mif\u001b[39;00m \u001b[38;5;129;01mnot\u001b[39;00m is_hashable(static_arg):\n\u001b[0;32m--> 271\u001b[0m   \u001b[38;5;28;01mraise\u001b[39;00m \u001b[38;5;167;01mValueError\u001b[39;00m(\n\u001b[1;32m    272\u001b[0m       \u001b[38;5;124m\"\u001b[39m\u001b[38;5;124mNon-hashable static arguments are not supported, as this can lead \u001b[39m\u001b[38;5;124m\"\u001b[39m\n\u001b[1;32m    273\u001b[0m       \u001b[38;5;124mf\u001b[39m\u001b[38;5;124m\"\u001b[39m\u001b[38;5;124mto unexpected cache-misses. Static argument (index \u001b[39m\u001b[38;5;132;01m{\u001b[39;00mi\u001b[38;5;132;01m}\u001b[39;00m\u001b[38;5;124m) of type \u001b[39m\u001b[38;5;124m\"\u001b[39m\n\u001b[1;32m    274\u001b[0m       \u001b[38;5;124mf\u001b[39m\u001b[38;5;124m\"\u001b[39m\u001b[38;5;132;01m{\u001b[39;00m\u001b[38;5;28mtype\u001b[39m(static_arg)\u001b[38;5;132;01m}\u001b[39;00m\u001b[38;5;124m for function \u001b[39m\u001b[38;5;132;01m{\u001b[39;00mf\u001b[38;5;241m.\u001b[39m\u001b[38;5;18m__name__\u001b[39m\u001b[38;5;132;01m}\u001b[39;00m\u001b[38;5;124m is non-hashable.\u001b[39m\u001b[38;5;124m\"\u001b[39m)\n\u001b[1;32m    275\u001b[0m \u001b[38;5;28;01melse\u001b[39;00m:\n\u001b[1;32m    276\u001b[0m   fixed_args\u001b[38;5;241m.\u001b[39mappend(_HashableWithStrictTypeEquality(static_arg))\n",
      "\u001b[0;31mValueError\u001b[0m: Non-hashable static arguments are not supported, as this can lead to unexpected cache-misses. Static argument (index 2) of type <class 'jaxlib.xla_extension.ArrayImpl'> for function recompute is non-hashable."
     ]
    }
   ],
   "source": [
    "import time\n",
    "nsteps = 2\n",
    "tstep = 0.5\n",
    "nconf, nelec, _ = coords.shape\n",
    "\n",
    "dets, inverse, aovals = recompute(mol, coords, mo_coeff, _nelec, occup_hash)\n",
    "\n",
    "equilibration_step = 500\n",
    "\n",
    "np.random.seed(seed)\n",
    "\n",
    "for i in range(equilibration_step):\n",
    "    acc = 0\n",
    "        \n",
    "    for e in range(nelec):\n",
    "        \n",
    "        \n",
    "        g, _, _  = gradient_value(mol, e, coords[:, e, :], dets, inverse, mo_coeff, \\\n",
    "                                  det_coeff, det_map, _nelec, occup_hash)\n",
    "        grad = limdrift(jnp.real(g.T))\n",
    "        \n",
    "        \n",
    "        gauss = np.random.normal(scale=np.sqrt(tstep), size=(nconf, 3))\n",
    "        gauss = jnp.array(gauss)\n",
    "        newcoorde = coords[:, e, :] + gauss + grad * tstep\n",
    "        \n",
    "        # pbc -> make_irreducible -> Not yet\n",
    "        g, new_val, saved = gradient_value(mol, e, newcoorde, dets, inverse, mo_coeff, \\\n",
    "                                           det_coeff, det_map, _nelec, occup_hash)\n",
    "        \n",
    "        new_grad = limdrift(jnp.real(g.T))\n",
    "        \n",
    "        forward = jnp.sum(gauss**2, axis = 1)\n",
    "        backward = jnp.sum((gauss + tstep * (grad + new_grad))**2, axis = 1)\n",
    "        t_prob = jnp.exp(1 / (2 * tstep) * (forward - backward))\n",
    "\n",
    "        ratio = jnp.abs(new_val) ** 2 * t_prob\n",
    "        accept = ratio > np.random.rand(nconf)\n",
    "        coords[accept, e, :] = newcoorde[accept, :]\n",
    "        aovals, dets, inverse = sherman_morrison(e, newcoorde, coords, mask = accept, gtoval = \"GTOval_sph\", aovals = aovals, saved_value= saved, get_phase = get_phase, dets = dets, inverse = inverse, mo_coeff = mo_coeff, occup_hash = occup_hash, _nelec = _nelec)\n",
    "        \n",
    "        acc += jnp.mean(accept) / nelec\n",
    "print(acc)\n"
   ]
  },
  {
   "cell_type": "code",
   "execution_count": 6,
   "metadata": {},
   "outputs": [
    {
     "name": "stdout",
     "output_type": "stream",
     "text": [
      "converged SCF energy = -1.11675930739643\n"
     ]
    },
    {
     "name": "stdout",
     "output_type": "stream",
     "text": [
      "jaejun_qmc result is 0.75\n",
      "pyqmc result is 0.75\n"
     ]
    }
   ],
   "source": [
    "import pyscf\n",
    "from pyscf import gto, scf, mcscf\n",
    "from pyqmc.api import Slater\n",
    "import pyqmc.api as pyq\n",
    "import numpy as np\n",
    "from pyqmc.api import vmc\n",
    "from pyqmc.energy import kinetic\n",
    "\n",
    "def limdrift(g, cutoff=1):\n",
    "    \"\"\"\n",
    "    Limit a vector to have a maximum magnitude of cutoff while maintaining direction\n",
    "\n",
    "    :parameter g: a [nconf,ndim] vector\n",
    "    :parameter cutoff: the maximum magnitude\n",
    "    :returns: The vector with the cutoff applied.\n",
    "    \"\"\"\n",
    "    tot = np.linalg.norm(g, axis=1)\n",
    "    mask = tot > cutoff\n",
    "    g[mask, :] = cutoff * g[mask, :] / tot[mask, np.newaxis]\n",
    "    return g\n",
    "\n",
    "# 물 분자 정의\n",
    "np.random.seed(42)\n",
    "\n",
    "mol = gto.Mole()\n",
    "mol.atom = '''\n",
    "H 0.0 0.0 0.0\n",
    "H 0.0 0.0 0.74\n",
    "'''\n",
    "mol.basis = 'sto-3g'\n",
    "mol.build()\n",
    "\n",
    "mf = scf.RHF(mol)\n",
    "mf.kernel()\n",
    "\n",
    "nconfig = 10\n",
    "configs = pyq.initial_guess(mol, nconfig)\n",
    "\n",
    "wf = Slater(mol, mf)\n",
    "nconf, nelec, _ = configs.configs.shape\n",
    "block_avg = {}\n",
    "wf.recompute(configs)\n",
    "nsteps = 1\n",
    "tstep = 0.5\n",
    "equilibration_step = 500\n",
    "\n",
    "np.random.seed(42)\n",
    "\n",
    "for _ in range(equilibration_step):\n",
    "    acc2 = 0.0\n",
    "    for e in range(nelec):\n",
    "        # Propose move\n",
    "        g, _, _ = wf.gradient_value(e, configs.electron(e))\n",
    "        grad = limdrift(np.real(g.T))\n",
    "        gauss = np.random.normal(scale=np.sqrt(tstep), size=(nconf, 3))\n",
    "        newcoorde = configs.configs[:, e, :] + gauss + grad * tstep\n",
    "        newcoorde = configs.make_irreducible(e, newcoorde)\n",
    "\n",
    "        # Compute reverse move\n",
    "        g, new_val, saved = wf.gradient_value(e, newcoorde)\n",
    "        new_grad = limdrift(np.real(g.T))\n",
    "        forward = np.sum(gauss**2, axis=1)\n",
    "        backward = np.sum((gauss + tstep * (grad + new_grad)) ** 2, axis=1)\n",
    "\n",
    "        # Acceptance\n",
    "        t_prob = np.exp(1 / (2 * tstep) * (forward - backward))\n",
    "        ratio = np.abs(new_val) ** 2 * t_prob\n",
    "        accept = ratio > np.random.rand(nconf)\n",
    "        # Update wave function\n",
    "        configs.move(e, newcoorde, accept)\n",
    "        wf.updateinternals(e, newcoorde, configs, mask=accept, saved_values=saved)\n",
    "        acc2 += np.mean(accept) / nelec\n",
    "        \n",
    "        \n",
    "        \n",
    "print(\"jaejun_qmc result is\" ,acc)\n",
    "print(\"pyqmc result is\", acc2)"
   ]
  },
  {
   "cell_type": "code",
   "execution_count": 6,
   "metadata": {},
   "outputs": [
    {
     "name": "stdout",
     "output_type": "stream",
     "text": [
      "Mean total energy: -1.118688 ± 1.027691\n"
     ]
    }
   ],
   "source": [
    "production_steps = 4000\n",
    "energies = []\n",
    "for i in range(production_steps):\n",
    "    acc = 0\n",
    "    for e in range(nelec):\n",
    "        g, _, _ = gradient_value(mol, e, coords[:, e, :], dets, inverse, mo_coeff,\n",
    "                                det_coeff, det_map, _nelec, occup_hash)\n",
    "        grad = limdrift(jnp.real(g.T))\n",
    "\n",
    "        gauss = np.random.normal(scale=np.sqrt(tstep), size=(nconf, 3))\n",
    "        gauss = jnp.array(gauss)\n",
    "        newcoorde = coords[:, e, :] + gauss + grad * tstep\n",
    "        \n",
    "        g, new_val, saved = gradient_value(mol, e, newcoorde, dets, inverse, mo_coeff,\n",
    "                                         det_coeff, det_map, _nelec, occup_hash)\n",
    "        \n",
    "        new_grad = limdrift(jnp.real(g.T))\n",
    "        \n",
    "        forward = jnp.sum(gauss**2, axis=1)\n",
    "        backward = jnp.sum((gauss + tstep * (grad + new_grad))**2, axis=1)\n",
    "        t_prob = jnp.exp(1/(2 * tstep) * (forward - backward))\n",
    "        \n",
    "        ratio = jnp.abs(new_val)**2 * t_prob\n",
    "        accept = ratio > np.random.rand(nconf)\n",
    "        coords[accept, e, :] = newcoorde[accept, :]\n",
    "        \n",
    "        aovals, dets, inverse = sherman_morrison(e, newcoorde, coords, mask=accept,\n",
    "                                               gtoval=\"GTOval_sph\", aovals=aovals,\n",
    "                                               saved_value=saved, get_phase=get_phase,\n",
    "                                               dets=dets, inverse=inverse,\n",
    "                                               mo_coeff=mo_coeff, occup_hash=occup_hash,\n",
    "                                               _nelec=_nelec)\n",
    "        \n",
    "        acc += jnp.mean(accept) / nelec\n",
    "    \n",
    "    PE = compute_potential_energy(mol, coords)\n",
    "    KE, _  = kinetic_energy(coords, mol, dets, inverse, mo_coeff, \n",
    "                            det_coeff, det_map, _nelec, occup_hash)\n",
    "\n",
    "    energies.append({\n",
    "        'ee': PE['ee'],\n",
    "        'ei': PE['ei'],\n",
    "        'ii': PE['ii'],\n",
    "        'ke': KE,\n",
    "        'total': PE['total'] + KE,\n",
    "        'accept_ratio': acc\n",
    "    })\n",
    "\n",
    "energies = jnp.array([e['total'] for e in energies])\n",
    "mean_energy = jnp.mean(energies)\n",
    "std_energy = jnp.std(energies)\n",
    "print(f\"Mean total energy: {mean_energy:.6f} ± {std_energy:.6f}\")"
   ]
  },
  {
   "cell_type": "code",
   "execution_count": 9,
   "metadata": {},
   "outputs": [
    {
     "data": {
      "text/plain": [
       "array([[0.        , 0.        , 0.        ],\n",
       "       [0.        , 0.        , 1.39839733]])"
      ]
     },
     "execution_count": 9,
     "metadata": {},
     "output_type": "execute_result"
    }
   ],
   "source": []
  }
 ],
 "metadata": {
  "kernelspec": {
   "display_name": "qmc2",
   "language": "python",
   "name": "python3"
  },
  "language_info": {
   "codemirror_mode": {
    "name": "ipython",
    "version": 3
   },
   "file_extension": ".py",
   "mimetype": "text/x-python",
   "name": "python",
   "nbconvert_exporter": "python",
   "pygments_lexer": "ipython3",
   "version": "3.10.16"
  }
 },
 "nbformat": 4,
 "nbformat_minor": 2
}
