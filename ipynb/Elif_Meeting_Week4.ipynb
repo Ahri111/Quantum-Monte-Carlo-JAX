{
 "cells": [
  {
   "cell_type": "code",
   "execution_count": 3,
   "id": "06155671-74b6-4a2f-b2d7-0f4b8531feb8",
   "metadata": {},
   "outputs": [],
   "source": [
    "import numpy as np\n",
    "np.random.seed(42)\n",
    "import jax\n",
    "import jax.numpy as jnp\n",
    "\n",
    "import functools\n",
    "from functools import partial\n",
    "\n",
    "from pyscf import gto, scf\n",
    "\n",
    "import pyqmc.api as pyq\n",
    "from qmc.orbitals import orbital_from_pyscf\n",
    "from qmc.pyscftools import orbital_evaluator_from_pyscf"
   ]
  },
  {
   "cell_type": "code",
   "execution_count": null,
   "id": "b2476968-1e70-4e49-a907-8864eafb5690",
   "metadata": {},
   "outputs": [],
   "source": [
    "mol = gto.Mole()\n",
    "mol.atom = '''\n",
    "O 0.000000 0.000000 0.117790\n",
    "H 0.000000 0.755453 -0.471161\n",
    "H 0.000000 -0.755453 -0.471161\n",
    "'''\n",
    "mol.basis = 'sto-3g'\n",
    "mol.build()\n",
    "\n",
    "nconfig = 10\n"
   ]
  }
 ],
 "metadata": {
  "kernelspec": {
   "display_name": "Python (jax-metal)",
   "language": "python",
   "name": "jax-metal"
  },
  "language_info": {
   "codemirror_mode": {
    "name": "ipython",
    "version": 3
   },
   "file_extension": ".py",
   "mimetype": "text/x-python",
   "name": "python",
   "nbconvert_exporter": "python",
   "pygments_lexer": "ipython3",
   "version": "3.9.20"
  }
 },
 "nbformat": 4,
 "nbformat_minor": 5
}
