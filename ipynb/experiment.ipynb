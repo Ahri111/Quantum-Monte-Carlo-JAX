{
 "cells": [
  {
   "cell_type": "code",
   "execution_count": 1,
   "metadata": {},
   "outputs": [
    {
     "name": "stdout",
     "output_type": "stream",
     "text": [
      "converged SCF energy = -74.963146775618\n",
      "(7, 7)\n",
      "converged SCF energy = -74.9631467756237  <S^2> = 1.6271429e-12  2S+1 = 1\n",
      "(2, 7, 7)\n"
     ]
    }
   ],
   "source": [
    "from pyscf import gto, scf\n",
    "import numpy as np\n",
    "import pyqmc.slater as slater\n",
    "import jax\n",
    "import jax.numpy as jnp\n",
    "import functools\n",
    "\n",
    "from qmc.extract import pyscf_parameter\n",
    "from qmc.mc import np_initial_guess\n",
    "from qmc.determinant_tools import single_occupation_list\n",
    "from qmc.determinant_tools import organize_determinant_data\n",
    "from qmc.determinant_tools import jax_single_occupation_list\n",
    "from qmc.determinant_tools import jax_organize_determinant_data\n",
    "\n",
    "mol = gto.Mole()\n",
    "\n",
    "mol.atom = '''\n",
    "O 0.000000 0.000000 0.117790\n",
    "H 0.000000 0.755453 -0.471161\n",
    "H 0.000000 -0.755453 -0.471161\n",
    "'''\n",
    "mol.basis = 'sto-3g'\n",
    "\n",
    "mol.build()\n",
    "mf = scf.RHF(mol)\n",
    "mf.kernel()\n",
    "print(mf.mo_coeff.shape)\n",
    "\n",
    "mf = scf.UHF(mol)\n",
    "mf.kernel()\n",
    "print(mf.mo_coeff.shape)\n"
   ]
  }
 ],
 "metadata": {
  "kernelspec": {
   "display_name": "Python (jax-metal)",
   "language": "python",
   "name": "jax-metal"
  },
  "language_info": {
   "codemirror_mode": {
    "name": "ipython",
    "version": 3
   },
   "file_extension": ".py",
   "mimetype": "text/x-python",
   "name": "python",
   "nbconvert_exporter": "python",
   "pygments_lexer": "ipython3",
   "version": "3.9.20"
  }
 },
 "nbformat": 4,
 "nbformat_minor": 2
}
