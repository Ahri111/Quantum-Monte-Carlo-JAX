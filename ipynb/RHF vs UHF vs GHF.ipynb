{
 "cells": [
  {
   "cell_type": "markdown",
   "id": "18f0b91f-13a0-4c42-b272-d1e1113f48d5",
   "metadata": {},
   "source": [
    "# Title: Restricted, Unrestricted, and Generalized Hartree Fock\n",
    "\n",
    "In computational quantum chemistry, the Hartree-Fock (HF) method is a fundamental approach for approximating the electronic structure of a many-electron system. Below, we explore the key variants of the HF method: **Restricted Hartree-Fock (RHF)**, **Unrestricted Hartree-Fock (UHF)**, and **Generalized Hartree-Fock (GHF)**.\n",
    "\n",
    "\n",
    "## 1. General Spin-Orbital Representation\n",
    "The spin-orbitals $\\phi_i(r, \\sigma)$ are defined as:\n",
    "$$\n",
    "\\phi_i(r, \\sigma) = \\psi_i(r) \\cdot \\chi_i(\\sigma)\n",
    "$$\n",
    "Here:\n",
    "\n",
    "$\\psi_i(r)$: Spatial orbital for the $i$-th electron.\n",
    "\n",
    "$\\chi_i(\\sigma)$: Spin function, which can be either $\\alpha(\\sigma)$ or $\\beta(\\sigma)$.\n",
    "\n",
    "Energy expression for RHF and UHF is written as:\n",
    "\n",
    "$$\n",
    "\\\n",
    "E = \\sum_{\\mu\\nu} P_{\\mu\\nu} H_{\\mu\\nu} \n",
    "+ \\frac{1}{2} \\sum_{\\mu\\nu\\lambda\\sigma} P_{\\mu\\nu} P_{\\lambda\\sigma} (\\mu\\nu|\\lambda\\sigma) \n",
    "- \\frac{a}{2} \\sum_{\\mu\\nu\\lambda\\sigma} \\left( P^{\\alpha}_{\\mu\\lambda} P^{\\alpha}_{\\nu\\sigma} + P^{\\beta}_{\\mu\\lambda} P^{\\beta}_{\\nu\\sigma} \\right) (\\mu\\nu|\\lambda\\sigma) \n",
    "+ b \\int f(\\vec{r}) \\, d\\vec{r}\n",
    "\\\n",
    "$$\n",
    "\n",
    "\n",
    "## 2. Restricted Hartee-Fock (RHF)\n",
    "\n",
    "In RHF, each spatial orbital $\\psi_i(r)$ is doubly occupied by one $\\alpha$-spin and one $\\beta$-spin electron. The spin-orbitals are:\n",
    "$$\n",
    "\\phi_i^\\alpha(r, \\sigma) = \\psi_i(r) \\cdot \\alpha(\\sigma), \\quad \\phi_i^\\beta(r, \\sigma) = \\psi_i(r) \\cdot \\beta(\\sigma)\n",
    "$$\n",
    "\n",
    "Wavefunction:\n",
    "$$\n",
    "\\\n",
    "\\Psi_\\text{RHF} = \\frac{1}{\\sqrt{N!}} \n",
    "\\begin{vmatrix}\n",
    "\\phi_1^\\alpha(1) & \\phi_1^\\beta(1) & \\phi_2^\\alpha(1) & \\phi_2^\\beta(1) \\\\\n",
    "\\phi_1^\\alpha(2) & \\phi_1^\\beta(2) & \\phi_2^\\alpha(2) & \\phi_2^\\beta(2) \\\\\n",
    "\\phi_1^\\alpha(3) & \\phi_1^\\beta(3) & \\phi_2^\\alpha(3) & \\phi_2^\\beta(3) \\\\\n",
    "\\phi_1^\\alpha(4) & \\phi_1^\\beta(4) & \\phi_2^\\alpha(4) & \\phi_2^\\beta(4)\n",
    "\\end{vmatrix}\n",
    "\\\n",
    "$$\n",
    "\n",
    "RHF's matrix representation in SCF:\n",
    "\n",
    "$$ F_{\\mu\\nu} = h_{\\mu\\nu} + \\sum_{\\lambda\\sigma} P_{\\lambda\\sigma} [({\\mu\\nu|\\lambda\\sigma}) - \\frac{1}{2}({\\mu\\lambda|\\nu\\sigma})] $$\n",
    "\n",
    "## 3. Unrestricted Hartree-Fock (UHF)\n",
    "\n",
    "In UHF, the $\\alpha$-spin and $\\beta$-spin electrons occupy different spatial orbitals. The spin-orbitals are:\n",
    "$$\n",
    "\\phi_i^\\alpha(r, \\sigma) = \\psi_i^\\alpha(r) \\cdot \\alpha(\\sigma), \\quad \\phi_i^\\beta(r, \\sigma) = \\psi_i^\\beta(r) \\cdot \\beta(\\sigma)\n",
    "$$\n",
    "\n",
    "Wavefunction:\n",
    "$$\n",
    "\\\n",
    "\\Psi_\\text{UHF} = \\frac{1}{\\sqrt{N!}} \n",
    "\\begin{vmatrix}\n",
    "\\phi_1^\\alpha(1) & \\phi_2^\\alpha(1) & \\phi_3^\\beta(1) & \\phi_4^\\beta(1) \\\\\n",
    "\\phi_1^\\alpha(2) & \\phi_2^\\alpha(2) & \\phi_3^\\beta(2) & \\phi_4^\\beta(2) \\\\\n",
    "\\phi_1^\\alpha(3) & \\phi_2^\\alpha(3) & \\phi_3^\\beta(3) & \\phi_4^\\beta(3) \\\\\n",
    "\\phi_1^\\alpha(4) & \\phi_2^\\alpha(4) & \\phi_3^\\beta(4) & \\phi_4^\\beta(4)\n",
    "\\end{vmatrix}\n",
    "\\\n",
    "$$\n",
    "\n",
    "UHF's matrix representation in SCF:\n",
    "\n",
    "$$ F_{\\mu\\nu}^\\alpha = h_{\\mu\\nu} + \\sum_{\\lambda\\sigma} [P_{\\lambda\\sigma}^\\alpha({\\mu\\nu|\\lambda\\sigma}) + P_{\\lambda\\sigma}^\\beta({\\mu\\nu|\\lambda\\sigma}) - P_{\\lambda\\sigma}^\\alpha({\\mu\\lambda|\\nu\\sigma})] $$\n",
    "$$ F_{\\mu\\nu}^\\beta = h_{\\mu\\nu} + \\sum_{\\lambda\\sigma} [P_{\\lambda\\sigma}^\\alpha({\\mu\\nu|\\lambda\\sigma}) + P_{\\lambda\\sigma}^\\beta({\\mu\\nu|\\lambda\\sigma}) - P_{\\lambda\\sigma}^\\beta({\\mu\\lambda|\\nu\\sigma})] $$\n",
    "\n",
    "## 4. Generalized Hartree-Fock (GHF)\n",
    "In GHF, there is no restriction on the spatial or spin components of the orbitals. The spin-orbitals are written as:\n",
    "$$\n",
    "\\phi_i(r, \\sigma) = \\psi_i(r) \\cdot \\chi_i(\\sigma), \\quad \\chi_i(\\sigma) = c_{i\\alpha} \\alpha(\\sigma) + c_{i\\beta} \\beta(\\sigma)\n",
    "$$\n",
    "\n",
    "Wavefunction:\n",
    "\n",
    "$$\n",
    "\\\n",
    "\\Psi_\\text{GHF} = \\frac{1}{\\sqrt{N!}} \n",
    "\\begin{vmatrix}\n",
    "\\phi_1(1) & \\phi_2(1) & \\phi_3(1) & \\phi_4(1) \\\\\n",
    "\\phi_1(2) & \\phi_2(2) & \\phi_3(2) & \\phi_4(2) \\\\\n",
    "\\phi_1(3) & \\phi_2(3) & \\phi_3(3) & \\phi_4(3) \\\\\n",
    "\\phi_1(4) & \\phi_2(4) & \\phi_3(4) & \\phi_4(4)\n",
    "\\end{vmatrix}\n",
    "\\\n",
    "$$\n",
    "\n",
    "GHF's matrix representation in SCF:\n",
    "\n",
    "$$ F_{\\mu\\sigma,\\nu\\tau} = h_{\\mu\\nu}\\delta_{\\sigma\\tau} + \\sum_{\\lambda\\gamma,\\delta\\epsilon} P_{\\lambda\\gamma,\\delta\\epsilon}[({\\mu\\nu|\\lambda\\delta})\\delta_{\\sigma\\gamma}\\delta_{\\tau\\epsilon} - ({\\mu\\delta|\\lambda\\nu})\\delta_{\\sigma\\epsilon}\\delta_{\\gamma\\tau}] $$\n",
    "\n",
    "## 5. Summary of Differences\n",
    "\n",
    "| Method | Spin-Orbital Relation       | Suitable for         | Computational Cost |\n",
    "|--------|-----------------------------|----------------------|--------------------|\n",
    "| RHF    | $\\phi_i^{\\alpha} = \\phi_i^{\\beta}$ | Closed-shell systems | Low                |\n",
    "| UHF    | $\\phi_i^{\\alpha} \\neq \\phi_i^{\\beta}$ | Open-shell systems   | Medium             |\n",
    "| GHF    | Fully unrestricted          | Any system           | High               |\n"
   ]
  },
  {
   "cell_type": "code",
   "execution_count": 1,
   "id": "52900228-57bb-4dc7-9fe3-7b156afc34a8",
   "metadata": {},
   "outputs": [
    {
     "name": "stdout",
     "output_type": "stream",
     "text": [
      "rhf_time is 0.10\n",
      "uhf_time is 0.13\n",
      "ghf_time is 0.14\n",
      "\n",
      "Fock Matrix Shapes:\n",
      "RHF Fock matrix shape: (26, 26)\n",
      "UHF Fock matrix shape: (2, 26, 26)\n",
      "GHF Fock matrix shape: (52, 52)\n",
      "--------------\n",
      "RHF energy is: -18.28451969362789\n",
      "UHF energy is: -18.28451969362791\n",
      "GHF energy is: -18.28451969362624\n"
     ]
    }
   ],
   "source": [
    "import pyscf\n",
    "import pyscf.mcscf\n",
    "from pyscf import gto, scf\n",
    "\n",
    "import numpy as np\n",
    "import time\n",
    "\n",
    "mol = pyscf.gto.M(\n",
    "    atom=\"\"\"\n",
    "        'C 0 0 0; \n",
    "         O 0 0 1.13\n",
    "         \"\"\",\n",
    "    ecp=\"ccecp\",\n",
    "    basis=\"ccecpccpvdz\",\n",
    "    unit=\"bohr\",\n",
    "    verbose=0,\n",
    ")\n",
    "\n",
    "start = time.time()\n",
    "mf_rhf = pyscf.scf.RHF(mol)\n",
    "e_rhf = mf_rhf.kernel()\n",
    "rhf_time = time.time() - start\n",
    "print(f\"rhf_time is {rhf_time:.2f}\")\n",
    "\n",
    "start = time.time()\n",
    "mf_uhf = pyscf.scf.UHF(mol)\n",
    "e_uhf = mf_uhf.kernel()\n",
    "uhf_time = time.time() - start\n",
    "print(f\"uhf_time is {uhf_time:.2f}\")\n",
    "\n",
    "start = time.time()\n",
    "mf_ghf = pyscf.scf.GHF(mol)\n",
    "e_ghf = mf_ghf.kernel()\n",
    "ghf_time = time.time() - start\n",
    "print(f\"ghf_time is {ghf_time:.2f}\")\n",
    "\n",
    "print(\"\\nFock Matrix Shapes:\")\n",
    "print(f\"RHF Fock matrix shape: {mf_rhf.get_fock().shape}\")\n",
    "print(f\"UHF Fock matrix shape: {mf_uhf.get_fock().shape}\")\n",
    "print(f\"GHF Fock matrix shape: {mf_ghf.get_fock().shape}\")\n",
    "print(\"--------------\")\n",
    "print(f\"RHF energy is: {e_rhf}\")\n",
    "print(f\"UHF energy is: {e_uhf}\")\n",
    "print(f\"GHF energy is: {e_ghf}\")"
   ]
  },
  {
   "cell_type": "code",
   "execution_count": 320,
   "id": "f53632e2-7ee9-44a9-9495-8f26ee29f1d5",
   "metadata": {},
   "outputs": [
    {
     "data": {
      "text/plain": [
       "(52, 52)"
      ]
     },
     "execution_count": 320,
     "metadata": {},
     "output_type": "execute_result"
    }
   ],
   "source": [
    "mo_coeff.shape"
   ]
  },
  {
   "cell_type": "code",
   "execution_count": 324,
   "id": "e5f55fd8-adca-4080-b116-a311863ffc72",
   "metadata": {},
   "outputs": [
    {
     "data": {
      "text/plain": [
       "10"
      ]
     },
     "execution_count": 324,
     "metadata": {},
     "output_type": "execute_result"
    }
   ],
   "source": [
    "n_electrons"
   ]
  },
  {
   "cell_type": "code",
   "execution_count": null,
   "id": "f9b43000-c229-47bf-9cc6-3acbfd6c4430",
   "metadata": {},
   "outputs": [],
   "source": [
    "                             MO1    MO2    MO3    MO4  (Molecular Orbitals)\n",
    "                              ↓      ↓      ↓      ↓\n",
    "H1(α) (Basis Functions) →  | c11    c12    c13    c14 |\n",
    "H2(α)                 →    | c21    c22    c23    c24 |\n",
    "H1(β)                 →    | c31    c32    c33    c34 |\n",
    "H2(β)                 →    | c41    c42    c43    c44 |"
   ]
  },
  {
   "cell_type": "code",
   "execution_count": 3,
   "id": "fce43c12-8aa7-4b33-a77c-d89d0756602e",
   "metadata": {},
   "outputs": [
    {
     "name": "stdout",
     "output_type": "stream",
     "text": [
      "1.0219573465592549\n"
     ]
    }
   ],
   "source": [
    "mo_coeff = mf_ghf.mo_coeff\n",
    "n_basis = mf_ghf.mol.nao_nr()\n",
    "n_electrons = mf_ghf.mol.nelectron\n",
    "\n",
    "i = 0\n",
    "j = 0\n",
    "component = mo_coeff[i::n_basis, j]\n",
    "alpha = component[0]\n",
    "beta = component[1]\n",
    "\n",
    "alpha_norm = np.linalg.norm(alpha)\n",
    "beta_norm = np.linalg.norm(beta)\n",
    "total_norm = alpha_norm**2 + beta_norm**2\n",
    "\n",
    "print(total_norm)"
   ]
  },
  {
   "cell_type": "code",
   "execution_count": 5,
   "id": "9cf9fe3c-4c44-4812-a585-24059934a8b7",
   "metadata": {},
   "outputs": [],
   "source": [
    "def calculate_total_spin(mf):\n",
    "    n_basis = mf.mol.nao_nr()\n",
    "    \n",
    "    # Sz \n",
    "    sz = np.zeros((2*n_basis, 2*n_basis))\n",
    "    sz[:n_basis, :n_basis] = 0.5 * np.eye(n_basis)\n",
    "    sz[n_basis:, n_basis:] = -0.5 * np.eye(n_basis)\n",
    "    \n",
    "    # P = CC†\n",
    "    density_matrix = np.dot(mf.mo_coeff * mf.mo_occ, mf.mo_coeff.T)\n",
    "    \n",
    "    # Tr(P·Sz)\n",
    "    total_spin = np.trace(np.dot(density_matrix, sz))\n",
    "    \n",
    "    occupied_orbs = [i for i, occ in enumerate(mf.mo_occ) if occ > 0]\n",
    "    spin_contributions = []\n",
    "    \n",
    "    for i in occupied_orbs:\n",
    "        mo = mf.mo_coeff[:, i]\n",
    "        spin_exp = np.dot(mo.T, np.dot(sz, mo)) * mf.mo_occ[i]\n",
    "        spin_contributions.append((i, spin_exp))\n",
    "    \n",
    "    return total_spin, spin_contributions"
   ]
  },
  {
   "cell_type": "code",
   "execution_count": 9,
   "id": "755d195a-8881-44f8-946a-03ae81ad57de",
   "metadata": {},
   "outputs": [
    {
     "name": "stdout",
     "output_type": "stream",
     "text": [
      "\n",
      " The expectation value of spins are : -0.00000000000008238375\n",
      "\n",
      " Each spin contribution:\n",
      "MO 1: -0.00000010687047434655\n",
      "MO 2: 0.00000010687041921626\n",
      "MO 3: 0.00000001481729121919\n",
      "MO 4: -0.00000000070990405373\n",
      "MO 5: -0.00000001295344411443\n",
      "MO 6: -0.00000000115394372486\n",
      "MO 7: -0.00000002137341731963\n",
      "MO 8: 0.00000002137339168625\n",
      "MO 9: -0.00000000047790348142\n",
      "MO 10: 0.00000000047790253924\n"
     ]
    }
   ],
   "source": [
    "total_sz, contributions = calculate_total_spin(mf_ghf)\n",
    "print(f\"\\n The expectation value of spins are : {total_sz:.20f}\")\n",
    "print(\"\\n Each spin contribution:\")\n",
    "for orb, sz in contributions:\n",
    "    print(f\"MO {orb+1}: {sz:.20f}\")"
   ]
  },
  {
   "cell_type": "code",
   "execution_count": 21,
   "id": "abf3a936-b32c-455a-ae9d-8735fc7f339e",
   "metadata": {},
   "outputs": [
    {
     "name": "stdout",
     "output_type": "stream",
     "text": [
      "-0.00000000276987226655\n"
     ]
    }
   ],
   "source": [
    "# unoccupied spin\n",
    "sz = np.zeros((2*n_basis, 2*n_basis))\n",
    "sz[:n_basis, :n_basis] = 0.5 * np.eye(n_basis)\n",
    "sz[n_basis:, n_basis:] = -0.5 * np.eye(n_basis)\n",
    "\n",
    "muo = mf_ghf.mo_coeff[:,12]\n",
    "spin_exp = np.dot(muo.T, np.dot(sz, muo))\n",
    "print(f\"{spin_exp:.20f}\")s"
   ]
  }
 ],
 "metadata": {
  "kernelspec": {
   "display_name": "Python 3 (ipykernel)",
   "language": "python",
   "name": "python3"
  },
  "language_info": {
   "codemirror_mode": {
    "name": "ipython",
    "version": 3
   },
   "file_extension": ".py",
   "mimetype": "text/x-python",
   "name": "python",
   "nbconvert_exporter": "python",
   "pygments_lexer": "ipython3",
   "version": "3.12.2"
  }
 },
 "nbformat": 4,
 "nbformat_minor": 5
}
