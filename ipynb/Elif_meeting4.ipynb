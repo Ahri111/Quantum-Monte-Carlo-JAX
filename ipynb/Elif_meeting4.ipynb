{
 "cells": [
  {
   "cell_type": "code",
   "execution_count": 1,
   "metadata": {},
   "outputs": [],
   "source": [
    "import os\n",
    "import numpy as np\n",
    "np.random.seed(42)\n",
    "\n",
    "import jax\n",
    "import jax.numpy as np\n",
    "\n",
    "from pyscf import gto, scf, mcscf\n",
    "import pyqmc.api as pyq\n",
    "\n",
    "from qmc.pyscftools import orbital_evaluator_from_pyscf\n",
    "from qmc.orbitals import *\n",
    "from qmc.determinants import *\n",
    "\n",
    "\n",
    "jax.config.update(\"jax_enable_x64\",True)\n",
    "\n",
    "def initialize_calculation(mol: gto.Mole, nconfig: int):\n",
    "    \"\"\"\n",
    "    Initial Calculation\n",
    "    Args:\n",
    "        mol: pyscf object\n",
    "        nconfig: configuration\n",
    "        \n",
    "    Returns:\n",
    "        coords, max_orb, det_coeff, det_map, mo_coeff, occup_hash, nelec\n",
    "    \"\"\"\n",
    "    mf = scf.RHF(mol)\n",
    "    mf.kernel()\n",
    "    \n",
    "    configs = pyq.initial_guess(mol, nconfig)\n",
    "    coords = configs.configs\n",
    "    \n",
    "    max_orb, det_coeff, det_map, mo_coeff, occup_hash, _nelec = \\\n",
    "        orbital_evaluator_from_pyscf(mol, mf)\n",
    "    \n",
    "    nelec = np.sum(mol.nelec)\n",
    "    return coords, max_orb, det_coeff, det_map, mo_coeff, occup_hash, nelec\n",
    "\n",
    "def determine_complex_settings(mo_coeff: jnp.ndarray, \n",
    "                             det_coeff: jnp.ndarray):\n",
    "    \"\"\"\n",
    "    \n",
    "    Args:\n",
    "        mo_coeff: MO's coefficient\n",
    "        det_coeff: determinant's coefficent\n",
    "        \n",
    "    Returns:\n",
    "        iscomplex, mo_dtype, get_phase\n",
    "    \"\"\"\n",
    "    ao_dtype = float\n",
    "    \n",
    "    iscomplex = check_parameters_complex(mo_coeff)\n",
    "    mo_dtype = complex if iscomplex else float\n",
    "    \n",
    "    \n",
    "    iscomplex = mo_dtype == complex or check_parameters_complex(det_coeff, mo_coeff)\n",
    "    get_phase = get_complex_phase if iscomplex else jnp.sign\n",
    "    \n",
    "    return iscomplex, mo_dtype, get_phase\n"
   ]
  },
  {
   "cell_type": "code",
   "execution_count": 6,
   "metadata": {},
   "outputs": [
    {
     "name": "stdout",
     "output_type": "stream",
     "text": [
      "converged SCF energy = -74.963146775618\n"
     ]
    }
   ],
   "source": [
    "coords, max_orb, det_coeff, det_map, mo_coeff, occup_hash, _nelec = initialize_calculation(mol,10)"
   ]
  },
  {
   "cell_type": "code",
   "execution_count": 10,
   "metadata": {},
   "outputs": [
    {
     "data": {
      "text/plain": [
       "(5, 5)"
      ]
     },
     "execution_count": 10,
     "metadata": {},
     "output_type": "execute_result"
    }
   ],
   "source": [
    "_nelec"
   ]
  },
  {
   "cell_type": "code",
   "execution_count": 2,
   "metadata": {},
   "outputs": [
    {
     "name": "stdout",
     "output_type": "stream",
     "text": [
      "converged SCF energy = -74.963146775618\n"
     ]
    }
   ],
   "source": [
    "from pyscf import gto, scf, mcscf\n",
    "\n",
    "# 물 분자 정의\n",
    "mol = gto.Mole()\n",
    "mol.atom = '''\n",
    "O 0.000000 0.000000 0.117790\n",
    "H 0.000000 0.755453 -0.471161\n",
    "H 0.000000 -0.755453 -0.471161\n",
    "'''\n",
    "mol.basis = 'sto-3g'\n",
    "mol.build()\n",
    "\n",
    "# HF 계산 먼저 수행\n",
    "mf = scf.RHF(mol)\n",
    "mf.kernel()\n",
    "\n",
    "nconfig = 10\n",
    "configs = pyq.initial_guess(mol, nconfig)\n",
    "# # CASSCF 계산\n",
    "# # 6개 궤도함수에 6개 전자를 넣고 계산\n",
    "# mc = mcscf.CASSCF(mf, ncas=6, nelecas=6)\n",
    "# mc.kernel()\n",
    "coords = configs.configs"
   ]
  },
  {
   "cell_type": "code",
   "execution_count": 4,
   "metadata": {},
   "outputs": [],
   "source": [
    "# Parameter setting\n",
    "max_orb, det_coeff, det_map, mo_coeff, occup_hash, _nelec = orbital_evaluator_from_pyscf(mol,mf)\n",
    "nelec = np.sum(mol.nelec)\n",
    "ao_dtype = float\n",
    "iscomplex = check_parameters_complex(mo_coeff)\n",
    "mo_dtype = complex if iscomplex else ao_dtype\n",
    "\n",
    "iscomplex = mo_dtype == complex or check_parameters_complex(det_coeff, mo_coeff)\n",
    "\n",
    "get_phase = get_complex_phase if iscomplex else jnp.sign"
   ]
  },
  {
   "cell_type": "code",
   "execution_count": 9,
   "metadata": {},
   "outputs": [
    {
     "data": {
      "text/plain": [
       "array([[[-1.47852199e+00, -7.19844208e-01, -2.38047931e-01],\n",
       "        [ 1.05712223e+00,  3.43618290e-01, -1.54044932e+00],\n",
       "        [ 3.24083969e-01, -3.85082280e-01, -4.54331160e-01],\n",
       "        [ 6.11676289e-01,  1.03099952e+00,  1.15387096e+00],\n",
       "        [-8.39217523e-01, -3.09212376e-01,  5.53854272e-01],\n",
       "        [ 9.75545127e-01, -4.79174238e-01,  3.69318635e-02],\n",
       "        [-1.10633497e+00, -1.19620662e+00,  1.03511666e+00],\n",
       "        [ 1.35624003e+00, -7.20101216e-02,  1.22612374e+00],\n",
       "        [ 3.61636025e-01, -6.45119755e-01,  5.83986446e-01],\n",
       "        [ 1.53803657e+00, -1.46342531e+00,  6.74278405e-01]],\n",
       "\n",
       "       [[-2.61974510e+00,  8.21902504e-01,  3.09637908e-01],\n",
       "        [-2.99007350e-01,  9.17607765e-02, -1.76497807e+00],\n",
       "        [-2.19671888e-01,  3.57112572e-01,  1.70048488e+00],\n",
       "        [-5.18270218e-01, -8.08493603e-01, -2.79166203e-01],\n",
       "        [ 9.15402118e-01, -1.09884816e+00, -1.42012545e+00],\n",
       "        [ 5.13267433e-01,  9.70775493e-02,  1.19123583e+00],\n",
       "        [-7.02053094e-01, -3.27662147e-01, -1.69517313e-01],\n",
       "        [-1.46351495e+00,  2.96120277e-01,  4.83646112e-01],\n",
       "        [ 5.11345664e-03, -2.34587133e-01, -1.19277990e+00],\n",
       "        [-4.20645323e-01, -1.77031379e+00, -1.69264252e+00]],\n",
       "\n",
       "       [[-1.61285712e-01,  4.04050857e-01,  2.10877674e+00],\n",
       "        [ 1.74577813e-01,  2.57550391e-01,  1.48144924e-01],\n",
       "        [-1.91877122e+00, -2.65138754e-02,  2.82821050e-01],\n",
       "        [ 2.46324211e+00, -1.92360965e-01,  5.24138183e-01],\n",
       "        [-3.47117697e-02, -1.16867804e+00,  1.36541365e+00],\n",
       "        [ 7.51933033e-01,  7.91031947e-01, -6.86796615e-01],\n",
       "        [ 1.40279431e+00, -1.40185106e+00,  8.09447934e-01],\n",
       "        [ 2.19045563e+00, -9.90536325e-01, -3.43706889e-01],\n",
       "        [ 9.96513651e-02, -5.03475654e-01, -1.32807259e+00],\n",
       "        [ 6.85629748e-02,  3.65295556e-01, -4.16772820e-01]],\n",
       "\n",
       "       [[-9.19424234e-01,  1.54993441e+00, -5.60662452e-01],\n",
       "        [-3.22061516e-01,  8.13517217e-01, -1.00827348e+00],\n",
       "        [ 2.27459935e-01,  1.30714275e+00, -1.38489239e+00],\n",
       "        [ 1.84633859e-01,  2.59882794e-01,  1.00441371e+00],\n",
       "        [-1.23695071e+00,  1.07142657e-01, -3.68423685e-01],\n",
       "        [ 2.96984673e-01,  2.50492850e-01,  5.69039050e-01],\n",
       "        [-6.80024722e-01,  2.32253697e-01,  5.15663314e-01],\n",
       "        [-7.14351418e-01,  1.86577451e+00,  6.96423761e-01],\n",
       "        [-1.19130350e+00,  6.56553609e-01, -7.52090830e-01],\n",
       "        [ 7.87084604e-01,  2.58619485e+00, -1.71104757e+00]],\n",
       "\n",
       "       [[ 9.63376129e-01,  4.12780927e-01,  1.04465100e+00],\n",
       "        [ 1.89679298e+00, -2.45388116e-01, -5.31145324e-01],\n",
       "        [-8.89514430e-01, -8.15810285e-01,  1.45489131e-01],\n",
       "        [ 3.41151975e-01,  2.76690799e-01,  1.04977409e+00],\n",
       "        [ 1.30018919e-02,  2.59348072e-02, -1.15502208e+00],\n",
       "        [ 2.72016917e+00,  6.25667348e-01, -6.34566716e-01],\n",
       "        [-1.07089250e+00,  4.82472415e-01, -8.71945113e-04],\n",
       "        [ 7.14000494e-01,  4.73237625e-01,  1.49761928e-01],\n",
       "        [-8.46793718e-01, -1.51484722e+00, -2.23924112e-01],\n",
       "        [ 8.56398794e-01,  2.14093744e-01, -1.02314794e+00]],\n",
       "\n",
       "       [[ 1.73180926e-01,  3.85317380e-01, -6.61266596e-01],\n",
       "        [ 1.53725106e-01,  5.82087184e-02, -9.20379458e-01],\n",
       "        [ 3.57787360e-01,  5.60784526e-01,  1.30564208e+00],\n",
       "        [ 1.05380205e+00, -1.37766937e+00, -7.15234200e-01],\n",
       "        [ 5.15035267e-01,  5.13785951e-01,  7.37638527e-01],\n",
       "        [ 3.85273149e+00,  5.70890511e-01,  1.35815648e+00],\n",
       "        [ 9.54001763e-01,  6.51391251e-01, -9.26784044e-02],\n",
       "        [ 7.58969220e-01, -7.72825215e-01, -1.42277665e-02],\n",
       "        [-4.85363548e-01,  8.18741394e-02,  2.53724941e+00],\n",
       "        [-1.86726519e+00,  2.11385946e+00, -2.50308112e+00]],\n",
       "\n",
       "       [[-4.71931866e-01,  1.08895060e+00,  2.86870859e-01],\n",
       "        [-1.07774478e+00, -7.15303709e-01,  9.02188589e-01],\n",
       "        [-7.30366632e-01,  2.16458590e-01,  2.68162680e-01],\n",
       "        [-6.51600348e-01,  2.14394409e+00,  8.56509863e-01],\n",
       "        [-2.02514259e+00,  1.61405358e+00, -1.55215172e+00],\n",
       "        [ 8.52433335e-01, -7.92520738e-01,  1.07854399e-01],\n",
       "        [ 5.04987279e-01,  8.65755194e-01, -9.77705567e-01],\n",
       "        [-3.34501236e-01, -4.74945311e-01, -4.30738392e-01],\n",
       "        [ 1.76545424e+00,  4.04981711e-01, -1.03829311e+00],\n",
       "        [ 9.17861947e-01,  3.54975547e+00,  1.42100010e-01]],\n",
       "\n",
       "       [[-1.51936997e+00, -4.84234073e-01,  1.48950199e+00],\n",
       "        [-7.07669466e-01,  4.43819428e-01,  9.97224894e-01],\n",
       "        [-9.26930472e-01, -5.95253561e-02, -3.01867650e+00],\n",
       "        [-1.02438764e+00, -2.52568151e-01, -1.02519234e+00],\n",
       "        [ 1.63241130e+00, -1.43014138e+00, -2.17453646e-01],\n",
       "        [ 1.30740577e-01,  1.44127329e+00, -1.21327131e+00],\n",
       "        [ 1.16316375e+00,  1.02330610e-02, -7.58917811e-01],\n",
       "        [ 4.62103474e-01,  1.99059696e-01, -3.77626037e-01],\n",
       "        [ 6.98020850e-02, -3.85313597e-01,  3.36108185e-01],\n",
       "        [ 6.62130675e-01,  1.58601682e+00, -1.01522466e+00]],\n",
       "\n",
       "       [[ 2.13303337e+00, -1.95208780e+00,  7.08057452e-02],\n",
       "        [ 5.88317206e-01,  2.80991868e-01, -4.00108680e-01],\n",
       "        [-2.08122250e-01, -4.93000935e-01, -3.66773917e-01],\n",
       "        [ 8.49602097e-01,  3.57015486e-01, -4.70318755e-01],\n",
       "        [ 8.99599875e-01, -1.12029975e+00, -7.75031317e-02],\n",
       "        [ 6.29628842e-01, -8.28995011e-01, -3.37590200e-01],\n",
       "        [ 7.47293605e-01,  6.10370265e-01,  2.01689246e-01],\n",
       "        [ 1.17327383e-01,  1.27766490e+00, -3.68980549e-01],\n",
       "        [ 5.47097381e-01, -2.02192652e-01,  4.90963699e-03],\n",
       "        [ 1.09877685e+00, -6.02182921e-01, -7.68556146e-02]],\n",
       "\n",
       "       [[ 1.30547881e+00,  2.10038416e-02,  9.04543812e-01],\n",
       "        [-3.10266757e-01,  3.24166352e-01,  9.24477858e-02],\n",
       "        [ 9.69959650e-02,  5.95157025e-01, -5.95629843e-01],\n",
       "        [ 2.09238728e+00, -1.00601738e+00, -9.91597773e-01],\n",
       "        [ 1.15811087e+00, -6.35936576e-01, -2.66245434e-01],\n",
       "        [ 6.28345509e-01, -1.22467728e-02, -6.74663531e-01],\n",
       "        [ 7.58045582e-02, -6.77161712e-01,  1.19771057e+00],\n",
       "        [-1.47057382e-01, -8.25497197e-01, -9.87950014e-02],\n",
       "        [ 4.12931454e-01, -5.63724553e-01, -5.99629555e-01],\n",
       "        [ 2.43687211e-01,  1.67256584e+00, -1.39730843e+00]]])"
      ]
     },
     "execution_count": 9,
     "metadata": {},
     "output_type": "execute_result"
    }
   ],
   "source": [
    "coords"
   ]
  },
  {
   "cell_type": "code",
   "execution_count": 5,
   "metadata": {},
   "outputs": [
    {
     "name": "stdout",
     "output_type": "stream",
     "text": [
      "(1, 100, 7)\n",
      "(1, 10, 10, 7)\n",
      "(10, 10, 5)\n",
      "(10, 1, 5, 5)\n"
     ]
    }
   ],
   "source": [
    "nelec = np.sum(mol.nelec)\n",
    "gtoval = \"GTOval_sph\"\n",
    "\n",
    "e = 0\n",
    "epos = coords[:,e, :]\n",
    "\n",
    "atomic_orbitals = aos(mol,gtoval, coords)\n",
    "aovals = atomic_orbitals.reshape(-1, nconfig, nelec, atomic_orbitals.shape[-1])\n",
    "mo = mos(aovals, mo_coeff[0])\n",
    "mo_vals = mo[:, occup_hash[0]]\n",
    "print(atomic_orbitals.shape)\n",
    "print(aovals.shape)\n",
    "print(mo.shape)\n",
    "print(mo_vals.shape)\n",
    "\n",
    "# inverse[0].shape"
   ]
  },
  {
   "cell_type": "code",
   "execution_count": 6,
   "metadata": {},
   "outputs": [
    {
     "name": "stdout",
     "output_type": "stream",
     "text": [
      "(1, 10, 7)\n",
      "(10,)\n",
      "(10, 5)\n",
      "(1, 10, 10, 7)\n",
      "(10, 1, 5)\n"
     ]
    }
   ],
   "source": [
    "mask = None\n",
    "ao = aos(mol, gtoval, epos)\n",
    "print(ao.shape)\n",
    "mask = np.ones(epos.shape[0], dtype=bool)\n",
    "print(mask.shape)\n",
    "#aovals[:, mask, e, :] = ao\n",
    "aovals = aovals.at[:, mask, e, :].set(ao)\n",
    "\n",
    "mo = mos(ao, mo_coeff[0])\n",
    "print(mo.shape)\n",
    "print(aovals.shape)\n",
    "\n",
    "mo_vals = mo[:, occup_hash[0]]\n",
    "print(mo_vals.shape)\n",
    "\n"
   ]
  },
  {
   "cell_type": "code",
   "execution_count": 7,
   "metadata": {},
   "outputs": [
    {
     "data": {
      "text/plain": [
       "(Array([-1.,  1.,  1., -1.,  1.,  1., -1.,  1.,  1., -1.], dtype=float64),\n",
       " Array([-24.91851571, -25.2200766 , -22.61672913, -24.5454139 ,\n",
       "        -25.30044541, -33.15232444, -32.59060734, -28.77909548,\n",
       "        -22.64761219, -20.84011955], dtype=float64))"
      ]
     },
     "execution_count": 7,
     "metadata": {},
     "output_type": "execute_result"
    }
   ],
   "source": [
    "dets, inverse, aovals = recompute(configs=coords,\n",
    "                                  atomic_orbitals =atomic_orbitals,\n",
    "                                  mo_coeff = mo_coeff,\n",
    "                                  _nelec = _nelec,\n",
    "                                  occup_hash = occup_hash)\n",
    "\n",
    "wf_value = compute_wf_value(configs, \n",
    "                            dets,\n",
    "                            det_coeff,\n",
    "                            det_map)\n",
    "\n",
    "wf_value"
   ]
  },
  {
   "cell_type": "code",
   "execution_count": 8,
   "metadata": {},
   "outputs": [
    {
     "data": {
      "text/plain": [
       "Array([[  1.63960001,   1.20706873,   0.20594085,   0.79131941,\n",
       "         -1.59822779,  29.80298152, -12.3821985 ,   1.14878567,\n",
       "         -0.52862865,  -2.48844549],\n",
       "       [ -2.16440261,  -0.448461  ,  -0.03814711,  -0.89822094,\n",
       "          0.34266312,  26.60420471,  -4.68935388,  -0.18134237,\n",
       "         -0.60558799,  -0.98823798],\n",
       "       [ -0.04978068,  -0.09247176,  -1.74237462,   0.69911575,\n",
       "         -0.29240211, -33.98807898,   4.53514892,  -1.19578169,\n",
       "         -1.53739607,   1.95881056]], dtype=float64)"
      ]
     },
     "execution_count": 8,
     "metadata": {},
     "output_type": "execute_result"
    }
   ],
   "source": [
    "\n",
    "e = 0\n",
    "epos = coords[:,e, :]\n",
    "\n",
    "g, val, saved  = gradient_value(mol, \n",
    "                                e, \n",
    "                                epos,\n",
    "                                dets, \n",
    "                                inverse,\n",
    "                                mo_coeff,\n",
    "                                det_coeff,\n",
    "                                det_map,\n",
    "                                _nelec,\n",
    "                                occup_hash)\n",
    "g"
   ]
  },
  {
   "cell_type": "code",
   "execution_count": 15,
   "metadata": {},
   "outputs": [
    {
     "data": {
      "text/plain": [
       "(Array([[  1.63960001,   1.20706873,   0.20594085,   0.79131941,\n",
       "          -1.59822779,  29.80298152, -12.3821985 ,   1.14878567,\n",
       "          -0.52862865,  -2.48844549],\n",
       "        [ -2.16440261,  -0.448461  ,  -0.03814711,  -0.89822094,\n",
       "           0.34266312,  26.60420471,  -4.68935388,  -0.18134237,\n",
       "          -0.60558799,  -0.98823798],\n",
       "        [ -0.04978068,  -0.09247176,  -1.74237462,   0.69911575,\n",
       "          -0.29240211, -33.98807898,   4.53514892,  -1.19578169,\n",
       "          -1.53739607,   1.95881056]], dtype=float64),\n",
       " Array([ 1.08138154e-01,  2.13391145e-01,  9.24971541e-01,  5.81858224e-01,\n",
       "        -3.12574521e+00, -4.12983512e+02, -4.53819341e+01,  1.04376415e+00,\n",
       "        -1.62369023e+00,  3.12933062e+00], dtype=float64))"
      ]
     },
     "execution_count": 15,
     "metadata": {},
     "output_type": "execute_result"
    }
   ],
   "source": [
    "gradient_laplacian(mol,\n",
    "                   e,\n",
    "                   epos,\n",
    "                   dets,\n",
    "                   inverse,\n",
    "                   mo_coeff,\n",
    "                   det_coeff,\n",
    "                   det_map,\n",
    "                   _nelec,\n",
    "                   occup_hash)"
   ]
  }
 ],
 "metadata": {
  "kernelspec": {
   "display_name": "Python (jax-metal)",
   "language": "python",
   "name": "jax-metal"
  },
  "language_info": {
   "codemirror_mode": {
    "name": "ipython",
    "version": 3
   },
   "file_extension": ".py",
   "mimetype": "text/x-python",
   "name": "python",
   "nbconvert_exporter": "python",
   "pygments_lexer": "ipython3",
   "version": "3.9.20"
  }
 },
 "nbformat": 4,
 "nbformat_minor": 2
}
