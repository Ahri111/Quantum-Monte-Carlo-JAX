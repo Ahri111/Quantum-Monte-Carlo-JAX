{
 "cells": [
  {
   "cell_type": "code",
   "execution_count": 1,
   "metadata": {},
   "outputs": [],
   "source": [
    "import numpy as np\n",
    "np.random.seed(42)\n",
    "import jax\n",
    "import jax.numpy as np\n",
    "\n",
    "from pyscf import gto, scf, mcscf\n",
    "import pyqmc.api as pyq\n",
    "\n",
    "from qmc.pyscftools import orbital_evaluator_from_pyscf\n",
    "from qmc.orbitals import *\n",
    "from qmc.determinants import *\n",
    "\n",
    "#Setting\n",
    "jax.config.update(\"jax_enable_x64\",True)"
   ]
  },
  {
   "cell_type": "code",
   "execution_count": 2,
   "metadata": {},
   "outputs": [
    {
     "name": "stdout",
     "output_type": "stream",
     "text": [
      "converged SCF energy = -74.963146775618\n"
     ]
    }
   ],
   "source": [
    "from pyscf import gto, scf, mcscf\n",
    "\n",
    "# 물 분자 정의\n",
    "mol = gto.Mole()\n",
    "mol.atom = '''\n",
    "O 0.000000 0.000000 0.117790\n",
    "H 0.000000 0.755453 -0.471161\n",
    "H 0.000000 -0.755453 -0.471161\n",
    "'''\n",
    "mol.basis = 'sto-3g'\n",
    "mol.build()\n",
    "\n",
    "# HF 계산 먼저 수행\n",
    "mf = scf.RHF(mol)\n",
    "mf.kernel()\n",
    "\n",
    "nconfig = 10\n",
    "configs = pyq.initial_guess(mol, nconfig)\n",
    "# # CASSCF 계산\n",
    "# # 6개 궤도함수에 6개 전자를 넣고 계산\n",
    "# mc = mcscf.CASSCF(mf, ncas=6, nelecas=6)\n",
    "# mc.kernel()\n",
    "coords = configs.configs"
   ]
  },
  {
   "cell_type": "code",
   "execution_count": 4,
   "metadata": {},
   "outputs": [],
   "source": [
    "max_orb, det_coeff, det_map, mo_coeff, occup_hash, _nelec = orbital_evaluator_from_pyscf(mol,mf)\n",
    "nelec = np.sum(mol.nelec)"
   ]
  },
  {
   "cell_type": "code",
   "execution_count": 5,
   "metadata": {},
   "outputs": [
    {
     "name": "stdout",
     "output_type": "stream",
     "text": [
      "(1, 100, 7)\n",
      "(1, 10, 10, 7)\n"
     ]
    }
   ],
   "source": [
    "nelec = np.sum(mol.nelec)\n",
    "gtoval = \"GTOval_sph\"\n",
    "atomic_orbitals = aos(mol,gtoval, coords)\n",
    "aovals = atomic_orbitals.reshape(-1, nconfig, nelec, atomic_orbitals.shape[-1])\n",
    "print(atomic_orbitals.shape)\n",
    "print(aovals.shape)"
   ]
  },
  {
   "cell_type": "code",
   "execution_count": 6,
   "metadata": {},
   "outputs": [
    {
     "name": "stdout",
     "output_type": "stream",
     "text": [
      "(Array([-1.,  1.,  1., -1.,  1.,  1., -1.,  1.,  1., -1.], dtype=float64), Array([-24.91851571, -25.2200766 , -22.61672913, -24.5454139 ,\n",
      "       -25.30044541, -33.15232444, -32.59060734, -28.77909548,\n",
      "       -22.64761219, -20.84011955], dtype=float64))\n"
     ]
    }
   ],
   "source": [
    "initial_wf_value = compute_wf_value(coords,\n",
    "                                    atomic_orbitals,\n",
    "                                    mo_coeff,\n",
    "                                    det_coeff,\n",
    "                                    _nelec,\n",
    "                                    occup_hash,\n",
    "                                    det_map)\n",
    "\n",
    "\n",
    "updets, up_inverse = recompute(configs=coords,\n",
    "                               atomic_orbitals =atomic_orbitals,\n",
    "                               mo_coeff = mo_coeff,\n",
    "                               _nelec = _nelec,\n",
    "                               occup_hash = occup_hash,\n",
    "                               s = 0)\n",
    "\n",
    "updets = updets[:, :, det_map[0]]\n",
    "\n",
    "dndets, down_inverse = recompute(configs=coords,\n",
    "                               atomic_orbitals =atomic_orbitals,\n",
    "                               mo_coeff = mo_coeff,\n",
    "                               _nelec = _nelec,\n",
    "                               occup_hash = occup_hash,\n",
    "                               s = 1)\n",
    "\n",
    "dndets = dndets[:, :, det_map[1]]\n",
    "inverse = tuple([up_inverse, down_inverse])\n",
    "print(initial_wf_value)"
   ]
  },
  {
   "cell_type": "code",
   "execution_count": 7,
   "metadata": {},
   "outputs": [
    {
     "name": "stdout",
     "output_type": "stream",
     "text": [
      "[[  1.63960001   1.20706873   0.20594085   0.79131941  -1.59822779\n",
      "   29.80298152 -12.3821985    1.14878567  -0.52862865  -2.48844549]\n",
      " [ -2.16440261  -0.448461    -0.03814711  -0.89822094   0.34266312\n",
      "   26.60420471  -4.68935388  -0.18134237  -0.60558799  -0.98823798]\n",
      " [ -0.04978068  -0.09247176  -1.74237462   0.69911575  -0.29240211\n",
      "  -33.98807898   4.53514892  -1.19578169  -1.53739607   1.95881056]]\n"
     ]
    }
   ],
   "source": [
    "e = 0\n",
    "epos = coords[:,e, :]\n",
    "\n",
    "g, _, _  = gradient_value(mol, \n",
    "                          e, \n",
    "                          epos,\n",
    "                          inverse, \n",
    "                          updets,\n",
    "                          dndets,\n",
    "                          mo_coeff, \n",
    "                          det_coeff,\n",
    "                          det_map,\n",
    "                          _nelec,\n",
    "                          occup_hash)\n",
    "print(g)"
   ]
  },
  {
   "cell_type": "code",
   "execution_count": 8,
   "metadata": {},
   "outputs": [
    {
     "data": {
      "text/plain": [
       "(Array([[  1.63960001,   1.20706873,   0.20594085,   0.79131941,\n",
       "          -1.59822779,  29.80298152, -12.3821985 ,   1.14878567,\n",
       "          -0.52862865,  -2.48844549],\n",
       "        [ -2.16440261,  -0.448461  ,  -0.03814711,  -0.89822094,\n",
       "           0.34266312,  26.60420471,  -4.68935388,  -0.18134237,\n",
       "          -0.60558799,  -0.98823798],\n",
       "        [ -0.04978068,  -0.09247176,  -1.74237462,   0.69911575,\n",
       "          -0.29240211, -33.98807898,   4.53514892,  -1.19578169,\n",
       "          -1.53739607,   1.95881056]], dtype=float64),\n",
       " Array([ 1.08138154e-01,  2.13391145e-01,  9.24971541e-01,  5.81858224e-01,\n",
       "        -3.12574521e+00, -4.12983512e+02, -4.53819341e+01,  1.04376415e+00,\n",
       "        -1.62369023e+00,  3.12933062e+00], dtype=float64))"
      ]
     },
     "execution_count": 8,
     "metadata": {},
     "output_type": "execute_result"
    }
   ],
   "source": [
    "gradient_laplacian(mol = mol,\n",
    "                   e = e,\n",
    "                   epos = epos,\n",
    "                   inverse = inverse,\n",
    "                   updets = updets,\n",
    "                   dndets = dndets,\n",
    "                   mo_coeff = mo_coeff,\n",
    "                   det_coeff = det_coeff,\n",
    "                   det_map = det_map,\n",
    "                   _nelec = _nelec,\n",
    "                   occup_hash = occup_hash)"
   ]
  }
 ],
 "metadata": {
  "kernelspec": {
   "display_name": "Python (jax-metal)",
   "language": "python",
   "name": "jax-metal"
  },
  "language_info": {
   "codemirror_mode": {
    "name": "ipython",
    "version": 3
   },
   "file_extension": ".py",
   "mimetype": "text/x-python",
   "name": "python",
   "nbconvert_exporter": "python",
   "pygments_lexer": "ipython3",
   "version": "3.9.20"
  }
 },
 "nbformat": 4,
 "nbformat_minor": 2
}
